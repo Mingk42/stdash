{
 "cells": [
  {
   "cell_type": "code",
   "execution_count": 1,
   "id": "94e3fa55-fac4-417a-8df1-33d2fd9e0b1d",
   "metadata": {},
   "outputs": [
    {
     "name": "stderr",
     "output_type": "stream",
     "text": [
      "2024-09-27 09:02:56.549 WARNING streamlit.runtime.scriptrunner_utils.script_run_context: Thread 'MainThread': missing ScriptRunContext! This warning can be ignored when running in bare mode.\n",
      "2024-09-27 09:02:56.657 \n",
      "  \u001b[33m\u001b[1mWarning:\u001b[0m to view this Streamlit app on a browser, run it with the following\n",
      "  command:\n",
      "\n",
      "    streamlit run /home/root2/code/stdash/.venv/lib/python3.11/site-packages/ipykernel_launcher.py [ARGUMENTS]\n",
      "2024-09-27 09:02:56.658 Thread 'MainThread': missing ScriptRunContext! This warning can be ignored when running in bare mode.\n"
     ]
    }
   ],
   "source": [
    "import streamlit as st\n",
    "import matplotlib.pyplot as plt\n",
    "import pandas as pd\n",
    "import requests as reqs\n",
    "\n",
    "st.title(\"CNN JOB MON\")\n",
    "\n",
    "def load_data():\n",
    "    url = \"http://43.202.66.118:8077/all\"\n",
    "\n",
    "    resp = reqs.get(url)\n",
    "    data = resp.json()\n",
    "\n",
    "    return data\n",
    "\n",
    "data = load_data()\n",
    "df = pd.DataFrame(data)\n",
    "\n",
    "df\n",
    "\n",
    "\n",
    "df[\"request_time\"] = pd.to_datetime(df[\"request_time\"])\n",
    "df[\"request_time\"].dt.strftime(\"%Y-%m-%d %H\")\n",
    "\n",
    "gbc = df.groupby(df['request_time']).count()"
   ]
  },
  {
   "cell_type": "code",
   "execution_count": 2,
   "id": "7d6d365c-d9ff-4561-a60c-ff122ec2718e",
   "metadata": {},
   "outputs": [
    {
     "data": {
      "text/html": [
       "<div>\n",
       "<style scoped>\n",
       "    .dataframe tbody tr th:only-of-type {\n",
       "        vertical-align: middle;\n",
       "    }\n",
       "\n",
       "    .dataframe tbody tr th {\n",
       "        vertical-align: top;\n",
       "    }\n",
       "\n",
       "    .dataframe thead th {\n",
       "        text-align: right;\n",
       "    }\n",
       "</style>\n",
       "<table border=\"1\" class=\"dataframe\">\n",
       "  <thead>\n",
       "    <tr style=\"text-align: right;\">\n",
       "      <th></th>\n",
       "      <th>num</th>\n",
       "      <th>file_name</th>\n",
       "      <th>label</th>\n",
       "      <th>file_path</th>\n",
       "      <th>request_user</th>\n",
       "      <th>prediction_model</th>\n",
       "      <th>prediction_result</th>\n",
       "      <th>prediction_time</th>\n",
       "    </tr>\n",
       "    <tr>\n",
       "      <th>request_time</th>\n",
       "      <th></th>\n",
       "      <th></th>\n",
       "      <th></th>\n",
       "      <th></th>\n",
       "      <th></th>\n",
       "      <th></th>\n",
       "      <th></th>\n",
       "      <th></th>\n",
       "    </tr>\n",
       "  </thead>\n",
       "  <tbody>\n",
       "    <tr>\n",
       "      <th>2024-09-25 10:30:38</th>\n",
       "      <td>1</td>\n",
       "      <td>1</td>\n",
       "      <td>1</td>\n",
       "      <td>1</td>\n",
       "      <td>1</td>\n",
       "      <td>1</td>\n",
       "      <td>1</td>\n",
       "      <td>1</td>\n",
       "    </tr>\n",
       "    <tr>\n",
       "      <th>2024-09-25 10:30:39</th>\n",
       "      <td>4</td>\n",
       "      <td>4</td>\n",
       "      <td>4</td>\n",
       "      <td>4</td>\n",
       "      <td>4</td>\n",
       "      <td>4</td>\n",
       "      <td>4</td>\n",
       "      <td>4</td>\n",
       "    </tr>\n",
       "    <tr>\n",
       "      <th>2024-09-25 10:35:11</th>\n",
       "      <td>2</td>\n",
       "      <td>2</td>\n",
       "      <td>2</td>\n",
       "      <td>2</td>\n",
       "      <td>2</td>\n",
       "      <td>2</td>\n",
       "      <td>2</td>\n",
       "      <td>2</td>\n",
       "    </tr>\n",
       "    <tr>\n",
       "      <th>2024-09-25 10:35:12</th>\n",
       "      <td>3</td>\n",
       "      <td>3</td>\n",
       "      <td>3</td>\n",
       "      <td>3</td>\n",
       "      <td>3</td>\n",
       "      <td>3</td>\n",
       "      <td>3</td>\n",
       "      <td>3</td>\n",
       "    </tr>\n",
       "    <tr>\n",
       "      <th>2024-09-25 11:53:00</th>\n",
       "      <td>1</td>\n",
       "      <td>1</td>\n",
       "      <td>1</td>\n",
       "      <td>1</td>\n",
       "      <td>1</td>\n",
       "      <td>1</td>\n",
       "      <td>1</td>\n",
       "      <td>1</td>\n",
       "    </tr>\n",
       "    <tr>\n",
       "      <th>...</th>\n",
       "      <td>...</td>\n",
       "      <td>...</td>\n",
       "      <td>...</td>\n",
       "      <td>...</td>\n",
       "      <td>...</td>\n",
       "      <td>...</td>\n",
       "      <td>...</td>\n",
       "      <td>...</td>\n",
       "    </tr>\n",
       "    <tr>\n",
       "      <th>2024-09-25 15:59:47</th>\n",
       "      <td>1</td>\n",
       "      <td>1</td>\n",
       "      <td>1</td>\n",
       "      <td>1</td>\n",
       "      <td>1</td>\n",
       "      <td>1</td>\n",
       "      <td>1</td>\n",
       "      <td>1</td>\n",
       "    </tr>\n",
       "    <tr>\n",
       "      <th>2024-09-25 16:52:54</th>\n",
       "      <td>1</td>\n",
       "      <td>1</td>\n",
       "      <td>1</td>\n",
       "      <td>1</td>\n",
       "      <td>1</td>\n",
       "      <td>1</td>\n",
       "      <td>1</td>\n",
       "      <td>1</td>\n",
       "    </tr>\n",
       "    <tr>\n",
       "      <th>2024-09-25 16:55:27</th>\n",
       "      <td>3</td>\n",
       "      <td>3</td>\n",
       "      <td>3</td>\n",
       "      <td>3</td>\n",
       "      <td>3</td>\n",
       "      <td>3</td>\n",
       "      <td>3</td>\n",
       "      <td>3</td>\n",
       "    </tr>\n",
       "    <tr>\n",
       "      <th>2024-09-25 16:56:40</th>\n",
       "      <td>2</td>\n",
       "      <td>2</td>\n",
       "      <td>2</td>\n",
       "      <td>2</td>\n",
       "      <td>2</td>\n",
       "      <td>2</td>\n",
       "      <td>2</td>\n",
       "      <td>2</td>\n",
       "    </tr>\n",
       "    <tr>\n",
       "      <th>2024-09-25 16:56:41</th>\n",
       "      <td>5</td>\n",
       "      <td>5</td>\n",
       "      <td>5</td>\n",
       "      <td>5</td>\n",
       "      <td>5</td>\n",
       "      <td>5</td>\n",
       "      <td>5</td>\n",
       "      <td>5</td>\n",
       "    </tr>\n",
       "  </tbody>\n",
       "</table>\n",
       "<p>83 rows × 8 columns</p>\n",
       "</div>"
      ],
      "text/plain": [
       "                     num  file_name  label  file_path  request_user  \\\n",
       "request_time                                                          \n",
       "2024-09-25 10:30:38    1          1      1          1             1   \n",
       "2024-09-25 10:30:39    4          4      4          4             4   \n",
       "2024-09-25 10:35:11    2          2      2          2             2   \n",
       "2024-09-25 10:35:12    3          3      3          3             3   \n",
       "2024-09-25 11:53:00    1          1      1          1             1   \n",
       "...                  ...        ...    ...        ...           ...   \n",
       "2024-09-25 15:59:47    1          1      1          1             1   \n",
       "2024-09-25 16:52:54    1          1      1          1             1   \n",
       "2024-09-25 16:55:27    3          3      3          3             3   \n",
       "2024-09-25 16:56:40    2          2      2          2             2   \n",
       "2024-09-25 16:56:41    5          5      5          5             5   \n",
       "\n",
       "                     prediction_model  prediction_result  prediction_time  \n",
       "request_time                                                               \n",
       "2024-09-25 10:30:38                 1                  1                1  \n",
       "2024-09-25 10:30:39                 4                  4                4  \n",
       "2024-09-25 10:35:11                 2                  2                2  \n",
       "2024-09-25 10:35:12                 3                  3                3  \n",
       "2024-09-25 11:53:00                 1                  1                1  \n",
       "...                               ...                ...              ...  \n",
       "2024-09-25 15:59:47                 1                  1                1  \n",
       "2024-09-25 16:52:54                 1                  1                1  \n",
       "2024-09-25 16:55:27                 3                  3                3  \n",
       "2024-09-25 16:56:40                 2                  2                2  \n",
       "2024-09-25 16:56:41                 5                  5                5  \n",
       "\n",
       "[83 rows x 8 columns]"
      ]
     },
     "execution_count": 2,
     "metadata": {},
     "output_type": "execute_result"
    }
   ],
   "source": [
    "gbc"
   ]
  },
  {
   "cell_type": "code",
   "execution_count": 3,
   "id": "e3a8af09-08fb-4dda-b6ae-74f05586afeb",
   "metadata": {},
   "outputs": [
    {
     "data": {
      "text/plain": [
       "DatetimeIndex(['2024-09-25 10:30:38', '2024-09-25 10:30:39',\n",
       "               '2024-09-25 10:35:11', '2024-09-25 10:35:12',\n",
       "               '2024-09-25 11:53:00', '2024-09-25 11:53:01',\n",
       "               '2024-09-25 11:53:11', '2024-09-25 11:53:12',\n",
       "               '2024-09-25 12:10:54', '2024-09-25 12:12:49',\n",
       "               '2024-09-25 12:15:34', '2024-09-25 12:15:35',\n",
       "               '2024-09-25 12:15:47', '2024-09-25 12:15:48',\n",
       "               '2024-09-25 12:17:28', '2024-09-25 12:18:26',\n",
       "               '2024-09-25 12:20:27', '2024-09-25 12:20:33',\n",
       "               '2024-09-25 12:21:48', '2024-09-25 12:25:07',\n",
       "               '2024-09-25 12:25:10', '2024-09-25 12:27:27',\n",
       "               '2024-09-25 12:28:50', '2024-09-25 12:29:38',\n",
       "               '2024-09-25 12:29:48', '2024-09-25 12:30:18',\n",
       "               '2024-09-25 12:30:34', '2024-09-25 12:30:46',\n",
       "               '2024-09-25 12:31:31', '2024-09-25 12:31:36',\n",
       "               '2024-09-25 12:31:49', '2024-09-25 12:31:53',\n",
       "               '2024-09-25 12:36:24', '2024-09-25 12:42:25',\n",
       "               '2024-09-25 12:44:04', '2024-09-25 14:02:34',\n",
       "               '2024-09-25 14:04:13', '2024-09-25 14:04:14',\n",
       "               '2024-09-25 14:09:43', '2024-09-25 14:11:52',\n",
       "               '2024-09-25 14:12:12', '2024-09-25 14:12:13',\n",
       "               '2024-09-25 14:13:31', '2024-09-25 14:19:42',\n",
       "               '2024-09-25 14:21:16', '2024-09-25 14:21:17',\n",
       "               '2024-09-25 14:22:11', '2024-09-25 14:22:39',\n",
       "               '2024-09-25 14:28:26', '2024-09-25 14:29:58',\n",
       "               '2024-09-25 14:30:10', '2024-09-25 14:32:45',\n",
       "               '2024-09-25 14:40:41', '2024-09-25 14:40:43',\n",
       "               '2024-09-25 14:41:21', '2024-09-25 14:50:28',\n",
       "               '2024-09-25 14:51:18', '2024-09-25 14:51:21',\n",
       "               '2024-09-25 14:51:32', '2024-09-25 14:54:23',\n",
       "               '2024-09-25 14:54:25', '2024-09-25 14:55:36',\n",
       "               '2024-09-25 14:58:48', '2024-09-25 15:11:15',\n",
       "               '2024-09-25 15:13:48', '2024-09-25 15:13:55',\n",
       "               '2024-09-25 15:14:03', '2024-09-25 15:14:44',\n",
       "               '2024-09-25 15:17:19', '2024-09-25 15:17:55',\n",
       "               '2024-09-25 15:19:23', '2024-09-25 15:54:52',\n",
       "               '2024-09-25 15:55:09', '2024-09-25 15:55:31',\n",
       "               '2024-09-25 15:56:35', '2024-09-25 15:56:38',\n",
       "               '2024-09-25 15:56:41', '2024-09-25 15:56:44',\n",
       "               '2024-09-25 15:59:47', '2024-09-25 16:52:54',\n",
       "               '2024-09-25 16:55:27', '2024-09-25 16:56:40',\n",
       "               '2024-09-25 16:56:41'],\n",
       "              dtype='datetime64[ns]', name='request_time', freq=None)"
      ]
     },
     "execution_count": 3,
     "metadata": {},
     "output_type": "execute_result"
    }
   ],
   "source": [
    "gbc.index"
   ]
  },
  {
   "cell_type": "code",
   "execution_count": 4,
   "id": "4d603796-5075-4fb0-83a0-c8dc909fa50c",
   "metadata": {},
   "outputs": [
    {
     "data": {
      "text/plain": [
       "array([  1,   4,   2,   3,   1,   2,   5,   1,   1,   1,   1,   1,   4,\n",
       "         3,   1,   1,   1,   1,   1,   1,   1,   1,   1,   1,   1,   1,\n",
       "         1,   1,   1,   1,   1,   1,   1,   1,   1,   1,  69,  31,   2,\n",
       "         1,   1, 100,   1,   1,   1,   1,   1,   1,   1,   1,   1,   1,\n",
       "         1,   1,   1,   1,   1,   1,   1,   1,   1,   1,   1,   1,   1,\n",
       "         1,   1,   1,   1,   1,   1,   1,   1,   1,   1,   1,   1,   1,\n",
       "         1,   1,   3,   2,   5])"
      ]
     },
     "execution_count": 4,
     "metadata": {},
     "output_type": "execute_result"
    }
   ],
   "source": [
    "gbc[\"request_user\"].values"
   ]
  },
  {
   "cell_type": "code",
   "execution_count": 5,
   "id": "55b1aa2a-1ee6-4bf4-b1cd-4ffa1cd3d39a",
   "metadata": {},
   "outputs": [
    {
     "data": {
      "text/plain": [
       "[<matplotlib.lines.Line2D at 0x7fd544cd5c10>]"
      ]
     },
     "execution_count": 5,
     "metadata": {},
     "output_type": "execute_result"
    }
   ],
   "source": [
    "plt.plot(gbc.index,gbc[\"request_user\"].values)"
   ]
  },
  {
   "cell_type": "code",
   "execution_count": 11,
   "id": "0f3fdeea-45ec-4f18-ace9-6d5a2263c46f",
   "metadata": {},
   "outputs": [
    {
     "name": "stderr",
     "output_type": "stream",
     "text": [
      "2024-09-26 17:53:08.096 Thread 'MainThread': missing ScriptRunContext! This warning can be ignored when running in bare mode.\n",
      "2024-09-26 17:53:08.098 Thread 'MainThread': missing ScriptRunContext! This warning can be ignored when running in bare mode.\n"
     ]
    },
    {
     "data": {
      "text/plain": [
       "DeltaGenerator()"
      ]
     },
     "execution_count": 11,
     "metadata": {},
     "output_type": "execute_result"
    }
   ],
   "source": [
    "st.bar_chart(gbc[\"request_user\"])"
   ]
  },
  {
   "cell_type": "code",
   "execution_count": 7,
   "id": "65250d11-39f7-4870-80ee-de1d8e17d070",
   "metadata": {},
   "outputs": [
    {
     "name": "stderr",
     "output_type": "stream",
     "text": [
      "/tmp/ipykernel_1342365/796401641.py:2: UserWarning: FigureCanvasAgg is non-interactive, and thus cannot be shown\n",
      "  plt.show()\n"
     ]
    }
   ],
   "source": [
    "plt.plot([0,1],[0,1])\n",
    "st"
   ]
  },
  {
   "cell_type": "code",
   "execution_count": 3,
   "id": "b3490116-e671-4816-ad58-1a8e505bb1bc",
   "metadata": {},
   "outputs": [
    {
     "name": "stderr",
     "output_type": "stream",
     "text": [
      "2024-09-27 09:03:32.919 Thread 'MainThread': missing ScriptRunContext! This warning can be ignored when running in bare mode.\n",
      "2024-09-27 09:03:32.922 Thread 'MainThread': missing ScriptRunContext! This warning can be ignored when running in bare mode.\n",
      "2024-09-27 09:03:33.006 Thread 'MainThread': missing ScriptRunContext! This warning can be ignored when running in bare mode.\n",
      "2024-09-27 09:03:33.147 Thread 'MainThread': missing ScriptRunContext! This warning can be ignored when running in bare mode.\n",
      "2024-09-27 09:03:33.148 Thread 'MainThread': missing ScriptRunContext! This warning can be ignored when running in bare mode.\n"
     ]
    },
    {
     "data": {
      "text/plain": [
       "DeltaGenerator()"
      ]
     },
     "execution_count": 3,
     "metadata": {},
     "output_type": "execute_result"
    }
   ],
   "source": [
    "st.title(\"요청 / 처리건수(h)\")\n",
    "\n",
    "fig, ax = plt.subplots()\n",
    "\n",
    "ax.bar(gbc[\"prediction_time\"].index,gbc[\"prediction_time\"].values, color=\"#99ffff\", label=\"prediction_time\")\n",
    "ax.plot(gbc[\"prediction_time\"].index,gbc[\"prediction_time\"].values, color=\"#f49292\", label=\"prediction_time\")\n",
    "\n",
    "plt.title(\"Prediction time by Request time\")\n",
    "plt.xticks(rotation = 45)\n",
    "plt.xlabel(\"Date/Time\")\n",
    "plt.ylabel(\"# of Requests\")\n",
    "\n",
    "st.pyplot(fig)"
   ]
  },
  {
   "cell_type": "code",
   "execution_count": 6,
   "id": "7d27672c-a575-49a9-8165-79c2b38181d0",
   "metadata": {},
   "outputs": [
    {
     "data": {
      "text/plain": [
       "['__annotations__',\n",
       " '__builtins__',\n",
       " '__call__',\n",
       " '__class__',\n",
       " '__closure__',\n",
       " '__code__',\n",
       " '__defaults__',\n",
       " '__delattr__',\n",
       " '__dict__',\n",
       " '__dir__',\n",
       " '__doc__',\n",
       " '__eq__',\n",
       " '__format__',\n",
       " '__ge__',\n",
       " '__get__',\n",
       " '__getattribute__',\n",
       " '__getstate__',\n",
       " '__globals__',\n",
       " '__gt__',\n",
       " '__hash__',\n",
       " '__init__',\n",
       " '__init_subclass__',\n",
       " '__kwdefaults__',\n",
       " '__le__',\n",
       " '__lt__',\n",
       " '__module__',\n",
       " '__name__',\n",
       " '__ne__',\n",
       " '__new__',\n",
       " '__qualname__',\n",
       " '__reduce__',\n",
       " '__reduce_ex__',\n",
       " '__repr__',\n",
       " '__setattr__',\n",
       " '__sizeof__',\n",
       " '__str__',\n",
       " '__subclasshook__']"
      ]
     },
     "execution_count": 6,
     "metadata": {},
     "output_type": "execute_result"
    }
   ],
   "source": [
    "dir(plt.rc)"
   ]
  },
  {
   "cell_type": "code",
   "execution_count": 7,
   "id": "acd1f24a-97b9-46a7-83b0-857a6f22d550",
   "metadata": {},
   "outputs": [],
   "source": [
    "import matplotlib.font_manager as fm"
   ]
  },
  {
   "cell_type": "code",
   "execution_count": 14,
   "id": "1ff8cf6b-4e5d-4b3a-a10e-4b7ad901dcbb",
   "metadata": {},
   "outputs": [],
   "source": [
    "font_list = set(fm.findSystemFonts(fontpaths=None, fontext='ttf'))"
   ]
  },
  {
   "cell_type": "code",
   "execution_count": 15,
   "id": "a48ec82a-2ea1-46b6-9841-44eab0845745",
   "metadata": {},
   "outputs": [
    {
     "data": {
      "text/plain": [
       "{'/usr/share/fonts/truetype/dejavu/DejaVuMathTeXGyre.ttf',\n",
       " '/usr/share/fonts/truetype/dejavu/DejaVuSans-Bold.ttf',\n",
       " '/usr/share/fonts/truetype/dejavu/DejaVuSans-BoldOblique.ttf',\n",
       " '/usr/share/fonts/truetype/dejavu/DejaVuSans-ExtraLight.ttf',\n",
       " '/usr/share/fonts/truetype/dejavu/DejaVuSans-Oblique.ttf',\n",
       " '/usr/share/fonts/truetype/dejavu/DejaVuSans.ttf',\n",
       " '/usr/share/fonts/truetype/dejavu/DejaVuSansCondensed-Bold.ttf',\n",
       " '/usr/share/fonts/truetype/dejavu/DejaVuSansCondensed-BoldOblique.ttf',\n",
       " '/usr/share/fonts/truetype/dejavu/DejaVuSansCondensed-Oblique.ttf',\n",
       " '/usr/share/fonts/truetype/dejavu/DejaVuSansCondensed.ttf',\n",
       " '/usr/share/fonts/truetype/dejavu/DejaVuSansMono-Bold.ttf',\n",
       " '/usr/share/fonts/truetype/dejavu/DejaVuSansMono-BoldOblique.ttf',\n",
       " '/usr/share/fonts/truetype/dejavu/DejaVuSansMono-Oblique.ttf',\n",
       " '/usr/share/fonts/truetype/dejavu/DejaVuSansMono.ttf',\n",
       " '/usr/share/fonts/truetype/dejavu/DejaVuSerif-Bold.ttf',\n",
       " '/usr/share/fonts/truetype/dejavu/DejaVuSerif-BoldItalic.ttf',\n",
       " '/usr/share/fonts/truetype/dejavu/DejaVuSerif-Italic.ttf',\n",
       " '/usr/share/fonts/truetype/dejavu/DejaVuSerif.ttf',\n",
       " '/usr/share/fonts/truetype/dejavu/DejaVuSerifCondensed-Bold.ttf',\n",
       " '/usr/share/fonts/truetype/dejavu/DejaVuSerifCondensed-BoldItalic.ttf',\n",
       " '/usr/share/fonts/truetype/dejavu/DejaVuSerifCondensed-Italic.ttf',\n",
       " '/usr/share/fonts/truetype/dejavu/DejaVuSerifCondensed.ttf',\n",
       " '/usr/share/fonts/truetype/ubuntu/Ubuntu-B.ttf',\n",
       " '/usr/share/fonts/truetype/ubuntu/Ubuntu-BI.ttf',\n",
       " '/usr/share/fonts/truetype/ubuntu/Ubuntu-C.ttf',\n",
       " '/usr/share/fonts/truetype/ubuntu/Ubuntu-Italic[wdth,wght].ttf',\n",
       " '/usr/share/fonts/truetype/ubuntu/Ubuntu-L.ttf',\n",
       " '/usr/share/fonts/truetype/ubuntu/Ubuntu-LI.ttf',\n",
       " '/usr/share/fonts/truetype/ubuntu/Ubuntu-M.ttf',\n",
       " '/usr/share/fonts/truetype/ubuntu/Ubuntu-MI.ttf',\n",
       " '/usr/share/fonts/truetype/ubuntu/Ubuntu-R.ttf',\n",
       " '/usr/share/fonts/truetype/ubuntu/Ubuntu-RI.ttf',\n",
       " '/usr/share/fonts/truetype/ubuntu/Ubuntu-Th.ttf',\n",
       " '/usr/share/fonts/truetype/ubuntu/UbuntuMono-B.ttf',\n",
       " '/usr/share/fonts/truetype/ubuntu/UbuntuMono-BI.ttf',\n",
       " '/usr/share/fonts/truetype/ubuntu/UbuntuMono-Italic[wght].ttf',\n",
       " '/usr/share/fonts/truetype/ubuntu/UbuntuMono-R.ttf',\n",
       " '/usr/share/fonts/truetype/ubuntu/UbuntuMono-RI.ttf',\n",
       " '/usr/share/fonts/truetype/ubuntu/UbuntuMono[wght].ttf',\n",
       " '/usr/share/fonts/truetype/ubuntu/UbuntuSans-Italic[wdth,wght].ttf',\n",
       " '/usr/share/fonts/truetype/ubuntu/UbuntuSansMono-Italic[wght].ttf',\n",
       " '/usr/share/fonts/truetype/ubuntu/UbuntuSansMono[wght].ttf',\n",
       " '/usr/share/fonts/truetype/ubuntu/UbuntuSans[wdth,wght].ttf',\n",
       " '/usr/share/fonts/truetype/ubuntu/Ubuntu[wdth,wght].ttf'}"
      ]
     },
     "execution_count": 15,
     "metadata": {},
     "output_type": "execute_result"
    }
   ],
   "source": [
    "font_list"
   ]
  },
  {
   "cell_type": "code",
   "execution_count": 16,
   "id": "d9814256-2b05-434b-9e72-7dd9ebf4d002",
   "metadata": {},
   "outputs": [
    {
     "ename": "AttributeError",
     "evalue": "module 'matplotlib.font_manager' has no attribute 'OSXInstalledFonts'",
     "output_type": "error",
     "traceback": [
      "\u001b[0;31m---------------------------------------------------------------------------\u001b[0m",
      "\u001b[0;31mAttributeError\u001b[0m                            Traceback (most recent call last)",
      "Cell \u001b[0;32mIn[16], line 1\u001b[0m\n\u001b[0;32m----> 1\u001b[0m font_list_mac \u001b[38;5;241m=\u001b[39m \u001b[43mfm\u001b[49m\u001b[38;5;241;43m.\u001b[39;49m\u001b[43mOSXInstalledFonts\u001b[49m()\n\u001b[1;32m      2\u001b[0m \u001b[38;5;28mprint\u001b[39m((font_list_mac))\n",
      "\u001b[0;31mAttributeError\u001b[0m: module 'matplotlib.font_manager' has no attribute 'OSXInstalledFonts'"
     ]
    }
   ],
   "source": [
    "font_list_mac = fm.OSXInstalledFonts()\n",
    "print((font_list_mac))"
   ]
  },
  {
   "cell_type": "code",
   "execution_count": 17,
   "id": "bc05e303-e63a-40b1-806e-57e5505f9cac",
   "metadata": {},
   "outputs": [
    {
     "data": {
      "text/plain": [
       "[]"
      ]
     },
     "execution_count": 17,
     "metadata": {},
     "output_type": "execute_result"
    }
   ],
   "source": [
    "[(f.name, f.fname) for f in fm.fontManager.ttflist if 'Nanum' in f.name]"
   ]
  },
  {
   "cell_type": "code",
   "execution_count": null,
   "id": "d10746e4-f05d-4b5b-8ff7-48620f1486bb",
   "metadata": {},
   "outputs": [],
   "source": [
    "import matplotlib.font_manager as fm\n",
    "\n",
    "path = '/home/root2/,local/Nanum_seongsil.ttf'\n",
    "font_name = fm.FontProperties(fname=path, size=50).get_name()\n",
    "plt.rc('font', family=font_name)"
   ]
  }
 ],
 "metadata": {
  "kernelspec": {
   "display_name": "Python 3 (ipykernel)",
   "language": "python",
   "name": "python3"
  },
  "language_info": {
   "codemirror_mode": {
    "name": "ipython",
    "version": 3
   },
   "file_extension": ".py",
   "mimetype": "text/x-python",
   "name": "python",
   "nbconvert_exporter": "python",
   "pygments_lexer": "ipython3",
   "version": "3.11.9"
  }
 },
 "nbformat": 4,
 "nbformat_minor": 5
}
